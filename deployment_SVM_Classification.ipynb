{
 "cells": [
  {
   "cell_type": "code",
   "execution_count": 2,
   "id": "55b29661",
   "metadata": {},
   "outputs": [
    {
     "name": "stdout",
     "output_type": "stream",
     "text": [
      "Predicted Class: 1\n",
      "Probability: [0.02224625 0.97775375]\n"
     ]
    },
    {
     "name": "stderr",
     "output_type": "stream",
     "text": [
      "C:\\ProgramData\\anaconda3\\Lib\\site-packages\\sklearn\\base.py:464: UserWarning: X does not have valid feature names, but StandardScaler was fitted with feature names\n",
      "  warnings.warn(\n"
     ]
    },
    {
     "data": {
      "text/plain": [
       "array([[0.02224625, 0.97775375]])"
      ]
     },
     "execution_count": 2,
     "metadata": {},
     "output_type": "execute_result"
    }
   ],
   "source": [
    "import pickle\n",
    "\n",
    "filename = \"finalized_model_SVM_Classification.sav\"\n",
    "loaded_model = pickle.load(open(filename, 'rb'))\n",
    "new_input = [[45, 80, 1, 0, 150, 45, 1.2, 138, 4.5, 15.4, 44, 5600, 5.2, 1, 0, 0, 0, 1, 1, 1, 1, 1, 1, 1, 1, 1, 1]]\n",
    "\n",
    "scaler_filename = \"scaler.sav\"\n",
    "sc = pickle.load(open(scaler_filename, 'rb'))\n",
    "new_input_scaled = sc.transform(new_input)\n",
    "\n",
    "prediction = loaded_model.predict(new_input_scaled)\n",
    "# prediction\n",
    "print(f'Predicted Class: {prediction[0]}')\n",
    "\n",
    "probability = loaded_model.predict_proba(new_input_scaled)\n",
    "print(f'Probability: {probability[0]}')\n",
    "# probability\n"
   ]
  },
  {
   "cell_type": "code",
   "execution_count": null,
   "id": "6797093a",
   "metadata": {},
   "outputs": [],
   "source": []
  }
 ],
 "metadata": {
  "kernelspec": {
   "display_name": "Python 3 (ipykernel)",
   "language": "python",
   "name": "python3"
  },
  "language_info": {
   "codemirror_mode": {
    "name": "ipython",
    "version": 3
   },
   "file_extension": ".py",
   "mimetype": "text/x-python",
   "name": "python",
   "nbconvert_exporter": "python",
   "pygments_lexer": "ipython3",
   "version": "3.11.5"
  }
 },
 "nbformat": 4,
 "nbformat_minor": 5
}
